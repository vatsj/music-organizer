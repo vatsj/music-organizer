{
 "cells": [
  {
   "cell_type": "markdown",
   "metadata": {},
   "source": [
    "## Terminal code for clipping start/end of .mp3 files\n",
    "\n",
    "To set start/end times for a video, [use ffmpeg](https://unix.stackexchange.com/questions/230481/how-to-download-portion-of-video-with-youtube-dl-command) \\\n",
    "To clip last n seconds of video, [scripts are needed](https://www.reddit.com/r/DataHoarder/comments/61ba0d/cutting_out_last_x_seconds_of_youtube_video/) \\\n",
    "Can be adapted for other file types"
   ]
  },
  {
   "cell_type": "markdown",
   "metadata": {},
   "source": [
    "### Script for clipping last `clip = 38` seconds of an mp3\n",
    "run in terminal from the directory containing the mp3-s to clip"
   ]
  },
  {
   "cell_type": "code",
   "execution_count": 1,
   "metadata": {},
   "outputs": [
    {
     "ename": "SyntaxError",
     "evalue": "invalid syntax (<ipython-input-1-cbfe1ddc09fd>, line 3)",
     "output_type": "error",
     "traceback": [
      "\u001b[0;36m  File \u001b[0;32m\"<ipython-input-1-cbfe1ddc09fd>\"\u001b[0;36m, line \u001b[0;32m3\u001b[0m\n\u001b[0;31m    for i in *.mp3\u001b[0m\n\u001b[0m             ^\u001b[0m\n\u001b[0;31mSyntaxError\u001b[0m\u001b[0;31m:\u001b[0m invalid syntax\n"
     ]
    }
   ],
   "source": [
    "#!/bin/bash\n",
    "\n",
    "for i in *.mp3\n",
    "\n",
    "do\n",
    "    ffprobe -v error -show_entries format=duration -of default=noprint_wrappers=1:nokey=1 \"$i\" >test.txt\n",
    "    value=$(head -1 test.txt)\n",
    "    sweet=$(printf \"%.*f\\n\" 0 $value)\n",
    "    clip=38\n",
    "    duration=$(($sweet-$clip))\n",
    "    ffmpeg -hide_banner -t \"$duration\" -i \"$i\" -ss 0 -c:v copy -c:a copy  \"v2 $i\"\n",
    "done\n"
   ]
  }
 ],
 "metadata": {
  "kernelspec": {
   "display_name": "Python 3",
   "language": "python",
   "name": "python3"
  },
  "language_info": {
   "codemirror_mode": {
    "name": "ipython",
    "version": 3
   },
   "file_extension": ".py",
   "mimetype": "text/x-python",
   "name": "python",
   "nbconvert_exporter": "python",
   "pygments_lexer": "ipython3",
   "version": "3.7.3"
  }
 },
 "nbformat": 4,
 "nbformat_minor": 4
}
