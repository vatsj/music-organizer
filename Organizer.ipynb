{
 "cells": [
  {
   "cell_type": "raw",
   "metadata": {},
   "source": [
    "## Principle: replace long names with short ones\n",
    "- **Example**: \"JoJo's Bizarre Adventure (Vol. 1)\" --> \"JJBA\"\n",
    "- **Motivation**: \"this way I can see the track names\""
   ]
  },
  {
   "cell_type": "code",
   "execution_count": 1,
   "metadata": {},
   "outputs": [],
   "source": [
    "# imports\n",
    "import os\n",
    "import glob"
   ]
  },
  {
   "cell_type": "code",
   "execution_count": 79,
   "metadata": {},
   "outputs": [
    {
     "name": "stdout",
     "output_type": "stream",
     "text": [
      "/home/jstav/Music/Attack on Titan/*.mp3\n"
     ]
    },
    {
     "ename": "FileNotFoundError",
     "evalue": "[Errno 2] No such file or directory: '/home/jstav/Music/Attack on Titan/AoT s1 - Bonus - piano adlib -IjCLodK3Slg.mp3' -> '/home/jstav/Music/AoT/AoT s1 - Bonus - piano adlib -IjCLodK3Slg.mp3'",
     "output_type": "error",
     "traceback": [
      "\u001b[0;31m---------------------------------------------------------------------------\u001b[0m",
      "\u001b[0;31mFileNotFoundError\u001b[0m                         Traceback (most recent call last)",
      "\u001b[0;32m<ipython-input-79-372025d18859>\u001b[0m in \u001b[0;36m<module>\u001b[0;34m\u001b[0m\n\u001b[1;32m      1\u001b[0m \u001b[0;31m# runs the renaming command\u001b[0m\u001b[0;34m\u001b[0m\u001b[0;34m\u001b[0m\u001b[0;34m\u001b[0m\u001b[0m\n\u001b[0;32m----> 2\u001b[0;31m \u001b[0mrenameAll\u001b[0m\u001b[0;34m(\u001b[0m\u001b[0;34m)\u001b[0m\u001b[0;34m\u001b[0m\u001b[0;34m\u001b[0m\u001b[0m\n\u001b[0m",
      "\u001b[0;32m<ipython-input-39-6616d3cc02b4>\u001b[0m in \u001b[0;36mrenameAll\u001b[0;34m()\u001b[0m\n\u001b[1;32m      8\u001b[0m         \u001b[0mnewName\u001b[0m \u001b[0;34m=\u001b[0m \u001b[0mreplaceAll\u001b[0m\u001b[0;34m(\u001b[0m\u001b[0moldName\u001b[0m\u001b[0;34m,\u001b[0m \u001b[0mREPLACEMENT_DICT\u001b[0m\u001b[0;34m)\u001b[0m\u001b[0;34m\u001b[0m\u001b[0;34m\u001b[0m\u001b[0m\n\u001b[1;32m      9\u001b[0m         \u001b[0;32mif\u001b[0m \u001b[0;34m(\u001b[0m\u001b[0mnewName\u001b[0m \u001b[0;34m!=\u001b[0m \u001b[0moldName\u001b[0m\u001b[0;34m)\u001b[0m\u001b[0;34m:\u001b[0m\u001b[0;34m\u001b[0m\u001b[0;34m\u001b[0m\u001b[0m\n\u001b[0;32m---> 10\u001b[0;31m             \u001b[0mos\u001b[0m\u001b[0;34m.\u001b[0m\u001b[0mrename\u001b[0m\u001b[0;34m(\u001b[0m\u001b[0moldName\u001b[0m\u001b[0;34m,\u001b[0m \u001b[0mnewName\u001b[0m\u001b[0;34m)\u001b[0m\u001b[0;34m\u001b[0m\u001b[0;34m\u001b[0m\u001b[0m\n\u001b[0m\u001b[1;32m     11\u001b[0m \u001b[0;31m#             print(f\"renamed {oldName} --> {newName}\")\u001b[0m\u001b[0;34m\u001b[0m\u001b[0;34m\u001b[0m\u001b[0;34m\u001b[0m\u001b[0m\n",
      "\u001b[0;31mFileNotFoundError\u001b[0m: [Errno 2] No such file or directory: '/home/jstav/Music/Attack on Titan/AoT s1 - Bonus - piano adlib -IjCLodK3Slg.mp3' -> '/home/jstav/Music/AoT/AoT s1 - Bonus - piano adlib -IjCLodK3Slg.mp3'"
     ]
    }
   ],
   "source": [
    "# runs the renaming command\n",
    "renameAll()"
   ]
  },
  {
   "cell_type": "code",
   "execution_count": 77,
   "metadata": {},
   "outputs": [],
   "source": [
    "# constants determining \"where to look\" for files to rename\n",
    "\n",
    "# directory to look for files in\n",
    "TARGET_DIR = \"/home/jstav/Music/Attack on Titan\"\n",
    "# file type\n",
    "# should exactly match suffix of filename\n",
    "FILETYPE = \".mp3\""
   ]
  },
  {
   "cell_type": "code",
   "execution_count": 78,
   "metadata": {},
   "outputs": [],
   "source": [
    "# dictionary of replacement substrings\n",
    "# assigns used dict to one of the options\n",
    "REPLACEMENT_DICT = RD_AoT"
   ]
  },
  {
   "cell_type": "code",
   "execution_count": 38,
   "metadata": {},
   "outputs": [],
   "source": [
    "# calls \"replace\" on target w multiple key-value pairs\n",
    "def replaceAll(target, RD):\n",
    "    mod_target = target\n",
    "    for key, value in RD.items():\n",
    "        mod_target = mod_target.replace(key, value)\n",
    "        \n",
    "    return mod_target"
   ]
  },
  {
   "cell_type": "code",
   "execution_count": 39,
   "metadata": {},
   "outputs": [],
   "source": [
    "# renames all files in a given directory\n",
    "def renameAll():\n",
    "    # finds and loops thru all files of FILETYPE in TARGET_DIR\n",
    "    glob_target = TARGET_DIR + \"/*\" + FILETYPE\n",
    "    print(glob_target)\n",
    "    \n",
    "    for oldName in glob.iglob(glob_target):\n",
    "        newName = replaceAll(oldName, REPLACEMENT_DICT)\n",
    "        if (newName != oldName):\n",
    "            os.rename(oldName, newName)\n",
    "#             print(f\"renamed {oldName} --> {newName}\")"
   ]
  },
  {
   "cell_type": "code",
   "execution_count": 80,
   "metadata": {},
   "outputs": [],
   "source": [
    "# defines options for replacement dict of substrings\n",
    "RD_test = {\n",
    "    \"hello\": \"goodbye\",\n",
    "}\n",
    "\n",
    "RD_NitW = {\n",
    "    \"Night in the Woods OST\": \"NitW\",\n",
    "}\n",
    "\n",
    "RD_JJBA_SC = {\n",
    "    \"OST Stardust Crusaders [World] Track\": \"JJBA-SC #\",\n",
    "    \"JoJo's Bizarre Adventure - Stardust Crusaders OST\": \"JJBA-SC\",\n",
    "    \"JoJo's Bizarre Adventure - Stardust Crusaders O.S.T [Destination]\": \"JJBA-SC\",\n",
    "}\n",
    "\n",
    "RD_JJBA_DiU = {\n",
    "    \"JoJo's Bizarre Adventure - Diamond is Unbreakable OST\": \"JJBA-DiU\",\n",
    "}\n",
    "\n",
    "RD_JJBA_GW = {\n",
    "    \"JoJo's Bizarre Adventure Golden Wind OST\": \"JJBA-GW\",\n",
    "    \"JOJO's Bizarre Adventure Golden Wind OST\": \"JJBA-GW\",\n",
    "    \"Jojo's Bizarre Adventures  - Golden Wind OST Vol.3 Finale\": \"JJBA-GW\",\n",
    "}\n",
    "\n",
    "RD_OPM_s2 = {\n",
    "    \"v2 One Punch Man Season 2 OST\": \"OPM s2\"\n",
    "}\n",
    "\n",
    "RD_AoT = {\n",
    "    \"Attack On Titan Season 2 OST\": \"AoT s2\",\n",
    "    \"Attack on Titan - Original Soundtrack I\": \"AoT s1\",\n",
    "    \"Attack on Titan - Original Soundtrack I\": \"AoT s1\",\n",
    "    \"_ High Quality _ Hiroyuki Sawano\": \"\",\n",
    "    \"Attack on Titan\": \"AoT\",\n",
    "}"
   ]
  }
 ],
 "metadata": {
  "kernelspec": {
   "display_name": "Python 3",
   "language": "python",
   "name": "python3"
  },
  "language_info": {
   "codemirror_mode": {
    "name": "ipython",
    "version": 3
   },
   "file_extension": ".py",
   "mimetype": "text/x-python",
   "name": "python",
   "nbconvert_exporter": "python",
   "pygments_lexer": "ipython3",
   "version": "3.7.3"
  }
 },
 "nbformat": 4,
 "nbformat_minor": 4
}
