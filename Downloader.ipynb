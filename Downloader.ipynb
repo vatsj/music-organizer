{
 "cells": [
  {
   "cell_type": "markdown",
   "metadata": {},
   "source": [
    "# yt-dl downloader\n",
    "downloads youtube videos to local machine via terminal commands \\\n",
    "docs: https://github.com/ytdl-org/youtube-dl/blob/master/README.md\n",
    "\n",
    "Commands below are intended to download videos to mp3 \\\n",
    "modify `-x --audio-format mp3` to chnage this\n",
    "\n",
    "### Download a single video\n",
    "> youtube-dl -x --audio-format mp3 [url]\n",
    "\n",
    "### Download a playlist\n",
    "> youtube-dl -i --yes-playlist -x --audio-format mp3 [url]"
   ]
  },
  {
   "cell_type": "code",
   "execution_count": 1,
   "metadata": {},
   "outputs": [
    {
     "ename": "SyntaxError",
     "evalue": "invalid syntax (<ipython-input-1-473ec1470956>, line 1)",
     "output_type": "error",
     "traceback": [
      "\u001b[0;36m  File \u001b[0;32m\"<ipython-input-1-473ec1470956>\"\u001b[0;36m, line \u001b[0;32m1\u001b[0m\n\u001b[0;31m    youtube-dl -i --yes-playlist -x --audio-format mp3   https://www.youtube.com/watch?v=-mcFggLXjiM&list=PLiTtyJMZHl9JO6YRJ3SRCQMgPyKmv8Cws\u001b[0m\n\u001b[0m                                                     ^\u001b[0m\n\u001b[0;31mSyntaxError\u001b[0m\u001b[0;31m:\u001b[0m invalid syntax\n"
     ]
    }
   ],
   "source": [
    "youtube-dl -i --yes-playlist -x --audio-format mp3 https://www.youtube.com/playlist?list=PLiTtyJMZHl9JO6YRJ3SRCQMgPyKmv8Cws"
   ]
  },
  {
   "cell_type": "code",
   "execution_count": null,
   "metadata": {},
   "outputs": [],
   "source": [
    "youtube-dl -i --yes-playlist -x --audio-format mp3    https://www.youtube.com/watch?v=-mcFggLXjiM&list=PLiTtyJMZHl9JO6YRJ3SRCQMgPyKmv8Cws"
   ]
  }
 ],
 "metadata": {
  "kernelspec": {
   "display_name": "Python 3",
   "language": "python",
   "name": "python3"
  },
  "language_info": {
   "codemirror_mode": {
    "name": "ipython",
    "version": 3
   },
   "file_extension": ".py",
   "mimetype": "text/x-python",
   "name": "python",
   "nbconvert_exporter": "python",
   "pygments_lexer": "ipython3",
   "version": "3.7.3"
  }
 },
 "nbformat": 4,
 "nbformat_minor": 4
}
